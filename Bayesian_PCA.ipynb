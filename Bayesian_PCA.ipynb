{
 "cells": [
  {
   "cell_type": "markdown",
   "metadata": {},
   "source": [
    "# Traditional PCA"
   ]
  },
  {
   "cell_type": "code",
   "execution_count": 1,
   "metadata": {
    "collapsed": false
   },
   "outputs": [
    {
     "name": "stdout",
     "output_type": "stream",
     "text": [
      "ingredients =\n",
      "\n",
      "     7    26     6    60\n",
      "     1    29    15    52\n",
      "    11    56     8    20\n",
      "    11    31     8    47\n",
      "     7    52     6    33\n",
      "    11    55     9    22\n",
      "     3    71    17     6\n",
      "     1    31    22    44\n",
      "     2    54    18    22\n",
      "    21    47     4    26\n",
      "     1    40    23    34\n",
      "    11    66     9    12\n",
      "    10    68     8    12\n",
      "\n",
      "\n",
      "reconstructedData =\n",
      "\n",
      "    7.0000   26.0000    6.0000   60.0000\n",
      "    1.0000   29.0000   15.0000   52.0000\n",
      "   11.0000   56.0000    8.0000   20.0000\n",
      "   11.0000   31.0000    8.0000   47.0000\n",
      "    7.0000   52.0000    6.0000   33.0000\n",
      "   11.0000   55.0000    9.0000   22.0000\n",
      "    3.0000   71.0000   17.0000    6.0000\n",
      "    1.0000   31.0000   22.0000   44.0000\n",
      "    2.0000   54.0000   18.0000   22.0000\n",
      "   21.0000   47.0000    4.0000   26.0000\n",
      "    1.0000   40.0000   23.0000   34.0000\n",
      "   11.0000   66.0000    9.0000   12.0000\n",
      "   10.0000   68.0000    8.0000   12.0000\n",
      "\n",
      "\n",
      "myReconstructedData =\n",
      "\n",
      "    7.0000   26.0000    6.0000   60.0000\n",
      "    1.0000   29.0000   15.0000   52.0000\n",
      "   11.0000   56.0000    8.0000   20.0000\n",
      "   11.0000   31.0000    8.0000   47.0000\n",
      "    7.0000   52.0000    6.0000   33.0000\n",
      "   11.0000   55.0000    9.0000   22.0000\n",
      "    3.0000   71.0000   17.0000    6.0000\n",
      "    1.0000   31.0000   22.0000   44.0000\n",
      "    2.0000   54.0000   18.0000   22.0000\n",
      "   21.0000   47.0000    4.0000   26.0000\n",
      "    1.0000   40.0000   23.0000   34.0000\n",
      "   11.0000   66.0000    9.0000   12.0000\n",
      "   10.0000   68.0000    8.0000   12.0000\n"
     ]
    }
   ],
   "source": [
    "load hald\n",
    "\n",
    "[coeff,score,latent,~,~,mu] = pca(ingredients);\n",
    "\n",
    "[dataLen,d] = size(ingredients); % D for number of dimensions\n",
    "reconstructedData = score*coeff'+repmat(mu,dataLen,1);\n",
    "\n",
    "ingredients\n",
    "\n",
    "reconstructedData\n",
    "\n",
    "% pca is just taking the eigenvalue decomposition of the covariance matrix\n",
    "myMu = mean(ingredients,1);\n",
    "tempData = bsxfun(@minus,ingredients,myMu);\n",
    "[V,D] = eig(cov(tempData)); % won't necessarily order the eigenvalues like\n",
    "          % matlab's pca function does\n",
    "% V is now the exact same thing as coeff above (just not in the right order)\n",
    "myScore = tempData/V';\n",
    "myReconstructedData = myScore*V'+repmat(myMu,dataLen,1);\n",
    "\n",
    "myReconstructedData"
   ]
  },
  {
   "cell_type": "markdown",
   "metadata": {},
   "source": [
    "Maintaining the full dimensionality in \"score\", you can easily recover the original data. "
   ]
  },
  {
   "cell_type": "markdown",
   "metadata": {},
   "source": [
    "# Dimensionality Reduction"
   ]
  },
  {
   "cell_type": "code",
   "execution_count": 17,
   "metadata": {
    "collapsed": false
   },
   "outputs": [
    {
     "name": "stdout",
     "output_type": "stream",
     "text": [
      "ingredients =\n",
      "\n",
      "     7    26     6    60\n",
      "     1    29    15    52\n",
      "    11    56     8    20\n",
      "    11    31     8    47\n",
      "     7    52     6    33\n",
      "    11    55     9    22\n",
      "     3    71    17     6\n",
      "     1    31    22    44\n",
      "     2    54    18    22\n",
      "    21    47     4    26\n",
      "     1    40    23    34\n",
      "    11    66     9    12\n",
      "    10    68     8    12\n",
      "\n",
      "\n",
      "dimReduceReconstructedData =\n",
      "\n",
      "    6.7992   25.8043    5.7955   59.8079\n",
      "    1.2004   29.1953   15.2041   52.1918\n",
      "   11.5700   56.5555    8.5806   20.5455\n",
      "   11.1916   31.1867    8.1952   47.1834\n",
      "    6.9279   51.9298    5.9266   32.9310\n",
      "   11.0683   55.0666    9.0696   22.0654\n",
      "    2.9586   70.9597   16.9578    5.9604\n",
      "    0.8358   30.8400   21.8328   43.8429\n",
      "    2.2752   54.2682   18.2803   22.2634\n",
      "   20.8276   46.8320    3.8244   25.8351\n",
      "    0.7797   39.7854   22.7756   33.7892\n",
      "   10.7738   65.7796    8.7696   11.7836\n",
      "    9.7917   67.7970    7.7878   11.8006\n",
      "\n",
      "Average absolute error in reconstruction of original data: 0.20\n",
      "Average relative error in reconstruction of original data: 0.026\n"
     ]
    }
   ],
   "source": [
    "reduceCoeff = coeff(:,1:3);\n",
    "reduceScore = score(:,1:3);\n",
    "dimReduceReconstructedData = reduceScore*reduceCoeff'+repmat(mu,dataLen,1);\n",
    "\n",
    "ingredients\n",
    "\n",
    "dimReduceReconstructedData\n",
    "\n",
    "avError = mean(mean(abs(ingredients-dimReduceReconstructedData)));\n",
    "fprintf('Average absolute error in reconstruction of original data: %3.2f\\n',avError);\n",
    "\n",
    "avRelError = mean(mean(abs(ingredients-dimReduceReconstructedData)./ingredients));\n",
    "fprintf('Average relative error in reconstruction of original data: %3.3f\\n',avRelError);"
   ]
  },
  {
   "cell_type": "markdown",
   "metadata": {},
   "source": [
    "The recovered data is almost identical to the original. Thus, the reduceScore matrix is a lower-dimensional representation of the original data."
   ]
  },
  {
   "cell_type": "markdown",
   "metadata": {},
   "source": [
    "# Probabilistic PCA"
   ]
  },
  {
   "cell_type": "code",
   "execution_count": 2,
   "metadata": {
    "collapsed": false
   },
   "outputs": [
    {
     "name": "stdout",
     "output_type": "stream",
     "text": [
      "W provides a full representation of the covariance matrix C\n",
      "\n",
      "ans =\n",
      "\n",
      "   34.6026   20.9231  -31.0513  -24.1667\n",
      "   20.9231  242.1410  -13.8782 -253.4167\n",
      "  -31.0513  -13.8782   41.0256    3.1667\n",
      "  -24.1667 -253.4167    3.1667  280.1667\n",
      "\n",
      "\n",
      "ans =\n",
      "\n",
      "     4     4\n",
      "\n",
      "\n",
      "ans =\n",
      "\n",
      "   34.6026   20.9231  -31.0513  -24.1667\n",
      "   20.9231  242.1410  -13.8782 -253.4167\n",
      "  -31.0513  -13.8782   41.0256    3.1667\n",
      "  -24.1667 -253.4167    3.1667  280.1667\n",
      "\n",
      "Drop the smallest eigenvalue to yield a lower-rank representation\n",
      "\n",
      "ans =\n",
      "\n",
      "     4     3\n",
      "\n",
      "\n",
      "ans =\n",
      "\n",
      "   34.6026   20.9231  -31.0513  -24.1667\n",
      "   20.9231  242.1410  -13.8782 -253.4167\n",
      "  -31.0513  -13.8782   41.0256    3.1667\n",
      "  -24.1667 -253.4167    3.1667  280.1667\n",
      "\n",
      "Drop the first two smallest eigenvalues\n",
      "\n",
      "ans =\n",
      "\n",
      "     4     2\n",
      "\n",
      "\n",
      "ans =\n",
      "\n",
      "   34.2033   24.3198  -30.8564  -21.0581\n",
      "   24.3198  241.8211  -10.9953 -253.5131\n",
      "  -30.8564  -10.9953   41.6520    5.8362\n",
      "  -21.0581 -253.5131    5.8362  280.2595\n"
     ]
    }
   ],
   "source": [
    "[dataLen,d] = size(ingredients); % D for number of dimensions\n",
    "\n",
    "[V,D] = eig(cov(ingredients));\n",
    "sigmasquare = 0;%(1/(d-q))*sum(dropped eigenvalues) and q is number of dropped eigenvalues\n",
    "W = V*sqrtm(D-sigmasquare.*eye(d));\n",
    "\n",
    "fprintf('W provides a full representation of the covariance matrix C\\n');\n",
    "cov(ingredients)\n",
    "size(W)\n",
    "W*W'+sigmasquare.*eye(d)\n",
    "\n",
    "fprintf('Drop the smallest eigenvalue to yield a lower-rank representation\\n');\n",
    "% drop the first and smallest eigenvalue\n",
    "eigenvalues = diag(D);\n",
    "sigmasquare = D(1,1);q = 3;\n",
    "W = V(:,2:end)*sqrtm(D(2:end,2:end)-sigmasquare.*eye(q));\n",
    "size(W)\n",
    "W*W'+sigmasquare.*eye(d)\n",
    "\n",
    "fprintf('Drop the first two smallest eigenvalues\\n');\n",
    "% drop bottom two eigenvalues\n",
    "q = 2;sigmasquare =(1/(d-q))*sum(eigenvalues(1:2));\n",
    "W = V(:,3:end)*sqrtm(D(3:end,3:end)-sigmasquare.*eye(q));\n",
    "size(W)\n",
    "W*W'+sigmasquare.*eye(d)"
   ]
  },
  {
   "cell_type": "markdown",
   "metadata": {},
   "source": [
    "Dropping out the first and smallest eigenvalue has no effect on the reconstruction \n",
    "of the covariance matrix, despite the fact that the matrix W now has one fewer \n",
    "column. If we drop the first two smallest eigenvalues, then the reconstruction\n",
    "of the covariance matrix causes fairly significant alterations. Thus, probabilistic\n",
    "PCA (PPCA) appears to provide a means by which we can create lower-dimensional\n",
    "representations of the covariance matrix of a dataset. In addition, the original\n",
    "data X and be recovered via the linear transformation X = WZ+sigmasquareI , or \n",
    "X = WZ+mu+sigmasquareI (I is the identity matrix and Z is an unobserved latent\n",
    "variable). "
   ]
  },
  {
   "cell_type": "markdown",
   "metadata": {
    "collapsed": true
   },
   "source": [
    "# PPCA (cont.)"
   ]
  },
  {
   "cell_type": "code",
   "execution_count": 20,
   "metadata": {
    "collapsed": false
   },
   "outputs": [
    {
     "name": "stdout",
     "output_type": "stream",
     "text": [
      "Reconstructed Data (Full Transformation Matrix):\n",
      "\n",
      "ans =\n",
      "\n",
      "    7.0000   26.0000    6.0000   60.0000\n",
      "    1.0000   29.0000   15.0000   52.0000\n",
      "   11.0000   56.0000    8.0000   20.0000\n",
      "   11.0000   31.0000    8.0000   47.0000\n",
      "    7.0000   52.0000    6.0000   33.0000\n",
      "   11.0000   55.0000    9.0000   22.0000\n",
      "    3.0000   71.0000   17.0000    6.0000\n",
      "    1.0000   31.0000   22.0000   44.0000\n",
      "    2.0000   54.0000   18.0000   22.0000\n",
      "   21.0000   47.0000    4.0000   26.0000\n",
      "    1.0000   40.0000   23.0000   34.0000\n",
      "   11.0000   66.0000    9.0000   12.0000\n",
      "   10.0000   68.0000    8.0000   12.0000\n",
      "\n",
      "Reconstructed Data (Reduced Transformation Matrix):\n",
      "\n",
      "ans =\n",
      "\n",
      "    6.7992   25.8043    5.7955   59.8079\n",
      "    1.2004   29.1953   15.2041   52.1918\n",
      "   11.5700   56.5555    8.5806   20.5455\n",
      "   11.1916   31.1867    8.1952   47.1834\n",
      "    6.9279   51.9298    5.9266   32.9310\n",
      "   11.0683   55.0666    9.0696   22.0654\n",
      "    2.9586   70.9597   16.9578    5.9604\n",
      "    0.8358   30.8400   21.8328   43.8429\n",
      "    2.2752   54.2682   18.2803   22.2634\n",
      "   20.8276   46.8320    3.8244   25.8351\n",
      "    0.7797   39.7854   22.7756   33.7892\n",
      "   10.7738   65.7796    8.7696   11.7836\n",
      "    9.7917   67.7970    7.7878   11.8006\n",
      "\n",
      "Average absolute error in reconstruction of original data: 0.20\n",
      "Average relative error in reconstruction of original data: 0.026\n"
     ]
    }
   ],
   "source": [
    "[V,D] = eig(cov(ingredients));\n",
    "sigmasquare = 0;%(1/(d-q))*sum(dropped eigenvalues) and q is number of dropped eigenvalues\n",
    "W = V*sqrtm(D-sigmasquare.*eye(d));\n",
    "\n",
    "mu = mean(ingredients,1);\n",
    "\n",
    "% data is now described by the following multivariate normal distribution\n",
    "\n",
    "% N(mu,W*W'+sigmasquare*eye(d));\n",
    "\n",
    "% the model is data = W*latent + mu + noise\n",
    "%   so, data-mu-noise = W*latent\n",
    "%   and inv(W)*(data-mu-noise) = latent\n",
    "\n",
    "latentVars = inv(W)*(ingredients-repmat(mu,dataLen,1))';\n",
    "\n",
    "reconstructedData = W*latentVars+repmat(mu,dataLen,1)';\n",
    "fprintf('Reconstructed Data (Full Transformation Matrix):\\n');\n",
    "display(reconstructedData');\n",
    "\n",
    "eigenvalues = diag(D);\n",
    "sigmasquare = D(1,1);q = 3;\n",
    "W = V(:,2:end)*sqrtm(D(2:end,2:end)-sigmasquare.*eye(q));\n",
    "\n",
    "latentVars = pinv(W)*(ingredients-repmat(mu,dataLen,1))';\n",
    "\n",
    "reconstructedData = W*latentVars+repmat(mu,dataLen,1)';\n",
    "fprintf('Reconstructed Data (Reduced Transformation Matrix):\\n');\n",
    "display(reconstructedData');\n",
    "\n",
    "avError = mean(mean(abs(ingredients-reconstructedData')));\n",
    "fprintf('Average absolute error in reconstruction of original data: %3.2f\\n',avError);\n",
    "\n",
    "avRelError = mean(mean(abs(ingredients-reconstructedData')./ingredients));\n",
    "fprintf('Average relative error in reconstruction of original data: %3.3f\\n',avRelError);"
   ]
  },
  {
   "cell_type": "markdown",
   "metadata": {},
   "source": [
    "Note that this reconstruction is identical to the reconstruction above using traditional\n",
    "PCA. The errors are also identical. So, PPCA can be used to create a lower-dimensional\n",
    "representation of a dataset (as latent variables), from which the original dataset\n",
    "can be almost exactly reconstructed. You could switch to the latent variable space\n",
    "for analysis, for example."
   ]
  },
  {
   "cell_type": "markdown",
   "metadata": {},
   "source": [
    "# Bayesian PCA"
   ]
  },
  {
   "cell_type": "code",
   "execution_count": null,
   "metadata": {
    "collapsed": true
   },
   "outputs": [],
   "source": []
  }
 ],
 "metadata": {
  "kernelspec": {
   "display_name": "Matlab",
   "language": "matlab",
   "name": "matlab"
  },
  "language_info": {
   "codemirror_mode": "octave",
   "file_extension": ".m",
   "help_links": [
    {
     "text": "MetaKernel Magics",
     "url": "https://github.com/calysto/metakernel/blob/master/metakernel/magics/README.md"
    }
   ],
   "mimetype": "text/x-octave",
   "name": "matlab",
   "version": "0.11.0"
  }
 },
 "nbformat": 4,
 "nbformat_minor": 0
}
